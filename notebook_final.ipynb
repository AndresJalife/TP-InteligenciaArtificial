{
 "cells": [
  {
   "cell_type": "code",
   "execution_count": 2,
   "metadata": {},
   "outputs": [],
   "source": [
    "import numpy as np\n",
    "import tensorflow as tf\n",
    "from tensorflow import keras\n",
    "from tensorflow.keras import layers\n",
    "import matplotlib.pyplot as plt"
   ]
  },
  {
   "cell_type": "code",
   "execution_count": 2,
   "metadata": {},
   "outputs": [],
   "source": [
    "#Se utilizó de guía principalmente:\n",
    "# https://www.tensorflow.org/tutorials/images/classification\n",
    "#Y de forma paralela:\n",
    "# https://keras.io/examples/vision/image_classification_from_scratch/"
   ]
  },
  {
   "cell_type": "code",
   "execution_count": 8,
   "metadata": {},
   "outputs": [],
   "source": [
    "#Atención, bajar dataset previamente: https://www.kaggle.com/miljan/stanford-dogs-dataset-traintest\n",
    "#extraerlo, y que la carpeta resultante quede en el mismo directorio que el notebook.\n",
    "train_dir = 'archive/cropped/train'\n",
    "test_dir = 'archive/cropped/test'"
   ]
  },
  {
   "cell_type": "code",
   "execution_count": 9,
   "metadata": {},
   "outputs": [
    {
     "name": "stdout",
     "output_type": "stream",
     "text": [
      "Found 8040 images belonging to 120 classes.\n",
      "Found 3960 images belonging to 120 classes.\n",
      "Found 8585 images belonging to 120 classes.\n"
     ]
    }
   ],
   "source": [
    "#Parte mia\n",
    "from tensorflow.keras.preprocessing.image import ImageDataGenerator\n",
    "datagen = ImageDataGenerator( \n",
    "    width_shift_range=0.1,  # Rotaciones horizontales de la imagen (10% de ancho total)\n",
    "    height_shift_range=0.1,  # Rotaciones verticales de la imagen (10% de alto total)\n",
    "    rotation_range=40,\n",
    "    zoom_range = 0.1,\n",
    "    rescale=1./255,\n",
    "    validation_split=0.33)\n",
    "train_generator = datagen.flow_from_directory(\n",
    "    directory=train_dir,\n",
    "    target_size=(224, 224),\n",
    "    color_mode=\"rgb\",\n",
    "    batch_size=64,\n",
    "    class_mode=\"categorical\",\n",
    "    shuffle=True,\n",
    "    seed=42, \n",
    "    subset=\"training\"\n",
    ")\n",
    "\n",
    "# Valid generator\n",
    "\n",
    "valid_generator = datagen.flow_from_directory(\n",
    "    directory=train_dir,\n",
    "    target_size=(224, 224),\n",
    "    color_mode=\"rgb\",\n",
    "    batch_size=64,\n",
    "    class_mode=\"categorical\",\n",
    "    shuffle=True,\n",
    "    seed=42, \n",
    "    subset=\"validation\"\n",
    ")\n",
    "\n",
    "# Test generator\n",
    "\n",
    "test_datagen = ImageDataGenerator(rescale=1./255)\n",
    "test_generator = test_datagen.flow_from_directory(\n",
    "    directory=test_dir,\n",
    "    target_size=(224, 224),\n",
    "    color_mode=\"rgb\",\n",
    "    batch_size=32,\n",
    "    class_mode=\"categorical\",\n",
    "    shuffle=False,\n",
    "    seed=42\n",
    ")"
   ]
  },
  {
   "cell_type": "code",
   "execution_count": 4,
   "metadata": {},
   "outputs": [],
   "source": [
    "from tensorflow.keras import optimizers\n",
    "from tensorflow.keras.callbacks import ReduceLROnPlateau\n",
    "\n",
    "optimizer = optimizers.RMSprop(lr=0.001, rho=0.9, epsilon=None, decay=0.0)"
   ]
  },
  {
   "cell_type": "code",
   "execution_count": 7,
   "metadata": {},
   "outputs": [],
   "source": [
    "#antes decia val_acc pero tiraba warning, val_accuracy deberia funcionar pero no voy a fittear de nuevo\n",
    "learning_rate_reduction = ReduceLROnPlateau(monitor='val_accuracy', \n",
    "                                            patience=2, \n",
    "                                            verbose=1, \n",
    "                                            factor=0.5, \n",
    "                                            min_lr=0.00001)\n"
   ]
  },
  {
   "cell_type": "code",
   "execution_count": 8,
   "metadata": {},
   "outputs": [],
   "source": [
    "STEP_SIZE_TRAIN=train_generator.n//train_generator.batch_size\n",
    "STEP_SIZE_VALID=valid_generator.n//valid_generator.batch_size"
   ]
  },
  {
   "cell_type": "code",
   "execution_count": 9,
   "metadata": {},
   "outputs": [
    {
     "name": "stdout",
     "output_type": "stream",
     "text": [
      "Downloading data from https://storage.googleapis.com/tensorflow/keras-applications/xception/xception_weights_tf_dim_ordering_tf_kernels_notop.h5\n",
      "83689472/83683744 [==============================] - 55s 1us/step\n"
     ]
    }
   ],
   "source": [
    "#Modelo Xception\n",
    "from tensorflow.keras.applications.xception import Xception\n",
    "base_model = Xception(weights='imagenet', include_top=False)"
   ]
  },
  {
   "cell_type": "code",
   "execution_count": 15,
   "metadata": {},
   "outputs": [],
   "source": [
    "from tensorflow.keras.models import Model\n",
    "x = base_model.output\n",
    "x = layers.GlobalAveragePooling2D()(x)\n",
    "# Capa densa\n",
    "x = layers.Dense(1024, activation='relu')(x)\n",
    "# Capa output \n",
    "predictions = layers.Dense(120, activation='softmax')(x)\n",
    "\n",
    "# first: Se entrenan solo las capas externas\n",
    "for layer in base_model.layers:\n",
    "    layer.trainable = False\n",
    "    \n",
    "\n",
    "xception = Model(inputs=base_model.input, outputs=predictions)\n",
    "xception.compile(optimizer=optimizer, loss='categorical_crossentropy', metrics=['accuracy'])"
   ]
  },
  {
   "cell_type": "code",
   "execution_count": 16,
   "metadata": {},
   "outputs": [
    {
     "name": "stderr",
     "output_type": "stream",
     "text": [
      "C:\\Users\\Nico\\AppData\\Roaming\\Python\\Python37\\site-packages\\tensorflow\\python\\keras\\engine\\training.py:1844: UserWarning: `Model.fit_generator` is deprecated and will be removed in a future version. Please use `Model.fit`, which supports generators.\n",
      "  warnings.warn('`Model.fit_generator` is deprecated and '\n"
     ]
    },
    {
     "name": "stdout",
     "output_type": "stream",
     "text": [
      "Epoch 1/10\n",
      "125/125 [==============================] - 934s 7s/step - loss: 2.0782 - accuracy: 0.5229 - val_loss: 0.9376 - val_accuracy: 0.7275\n",
      "WARNING:tensorflow:Learning rate reduction is conditioned on metric `val_acc` which is not available. Available metrics are: loss,accuracy,val_loss,val_accuracy,lr\n",
      "Epoch 2/10\n",
      "125/125 [==============================] - 892s 7s/step - loss: 0.7727 - accuracy: 0.7726 - val_loss: 0.8476 - val_accuracy: 0.7426\n",
      "WARNING:tensorflow:Learning rate reduction is conditioned on metric `val_acc` which is not available. Available metrics are: loss,accuracy,val_loss,val_accuracy,lr\n",
      "Epoch 3/10\n",
      "125/125 [==============================] - 831s 7s/step - loss: 0.6818 - accuracy: 0.7885 - val_loss: 0.9000 - val_accuracy: 0.7339\n",
      "WARNING:tensorflow:Learning rate reduction is conditioned on metric `val_acc` which is not available. Available metrics are: loss,accuracy,val_loss,val_accuracy,lr\n",
      "Epoch 4/10\n",
      "125/125 [==============================] - 829s 7s/step - loss: 0.5830 - accuracy: 0.8138 - val_loss: 0.8717 - val_accuracy: 0.7480\n",
      "WARNING:tensorflow:Learning rate reduction is conditioned on metric `val_acc` which is not available. Available metrics are: loss,accuracy,val_loss,val_accuracy,lr\n",
      "Epoch 5/10\n",
      "125/125 [==============================] - 934s 7s/step - loss: 0.5493 - accuracy: 0.8220 - val_loss: 0.8517 - val_accuracy: 0.7579\n",
      "WARNING:tensorflow:Learning rate reduction is conditioned on metric `val_acc` which is not available. Available metrics are: loss,accuracy,val_loss,val_accuracy,lr\n",
      "Epoch 6/10\n",
      "125/125 [==============================] - 948s 8s/step - loss: 0.5232 - accuracy: 0.8312 - val_loss: 0.8901 - val_accuracy: 0.7590\n",
      "WARNING:tensorflow:Learning rate reduction is conditioned on metric `val_acc` which is not available. Available metrics are: loss,accuracy,val_loss,val_accuracy,lr\n",
      "Epoch 7/10\n",
      "125/125 [==============================] - 924s 7s/step - loss: 0.4566 - accuracy: 0.8508 - val_loss: 0.8701 - val_accuracy: 0.7582\n",
      "WARNING:tensorflow:Learning rate reduction is conditioned on metric `val_acc` which is not available. Available metrics are: loss,accuracy,val_loss,val_accuracy,lr\n",
      "Epoch 8/10\n",
      "125/125 [==============================] - 922s 7s/step - loss: 0.4486 - accuracy: 0.8537 - val_loss: 0.8900 - val_accuracy: 0.7628\n",
      "WARNING:tensorflow:Learning rate reduction is conditioned on metric `val_acc` which is not available. Available metrics are: loss,accuracy,val_loss,val_accuracy,lr\n",
      "Epoch 9/10\n",
      "125/125 [==============================] - 945s 8s/step - loss: 0.4153 - accuracy: 0.8619 - val_loss: 0.9261 - val_accuracy: 0.7597\n",
      "WARNING:tensorflow:Learning rate reduction is conditioned on metric `val_acc` which is not available. Available metrics are: loss,accuracy,val_loss,val_accuracy,lr\n",
      "Epoch 10/10\n",
      "125/125 [==============================] - 966s 8s/step - loss: 0.3900 - accuracy: 0.8694 - val_loss: 0.9481 - val_accuracy: 0.7664\n",
      "WARNING:tensorflow:Learning rate reduction is conditioned on metric `val_acc` which is not available. Available metrics are: loss,accuracy,val_loss,val_accuracy,lr\n"
     ]
    },
    {
     "data": {
      "text/plain": [
       "<tensorflow.python.keras.callbacks.History at 0x1fe9fcc7808>"
      ]
     },
     "execution_count": 16,
     "metadata": {},
     "output_type": "execute_result"
    }
   ],
   "source": [
    "xception.fit(generator=train_generator,\n",
    "                    steps_per_epoch=STEP_SIZE_TRAIN,\n",
    "                    validation_data=valid_generator,\n",
    "                    validation_steps=STEP_SIZE_VALID,\n",
    "                    epochs=10,\n",
    "                    verbose=1,\n",
    "                    callbacks=[learning_rate_reduction]\n",
    ")"
   ]
  },
  {
   "cell_type": "code",
   "execution_count": 24,
   "metadata": {},
   "outputs": [
    {
     "name": "stdout",
     "output_type": "stream",
     "text": [
      "0.5536444187164307 0.8506296873092651\n"
     ]
    }
   ],
   "source": [
    "STEP_SIZE_TEST=test_generator.n//test_generator.batch_size\n",
    "loss, acc = xception.evaluate_generator(generator=test_generator, steps=STEP_SIZE_TEST, verbose=0)\n",
    "print(loss, acc)"
   ]
  },
  {
   "cell_type": "code",
   "execution_count": null,
   "metadata": {},
   "outputs": [],
   "source": [
    "#Guardo el modelo entrenado\n",
    "xception_model_json = xception.to_json()\n",
    "with open(\"xcept_model.json\", \"w\") as json_file:\n",
    "    json_file.write(xception_model_json)\n",
    "# guardo los pesos\n",
    "xception.save_weights(\"weight_model.h5\")\n",
    "print(\"Guardado a disco\")"
   ]
  },
  {
   "cell_type": "code",
   "execution_count": null,
   "metadata": {},
   "outputs": [],
   "source": [
    "#Para cargar el modelo entrenado\n",
    "from tensorflow.keras.models import model_from_json\n",
    "json_file = open('xcept_model.json', 'r')\n",
    "loaded_model_json = json_file.read()\n",
    "json_file.close()\n",
    "xception_model = model_from_json(loaded_model_json)\n",
    "# Cargo pesos\n",
    "xception_model.load_weights(\"weight_model.h5\")\n",
    "#Compilo\n",
    "xception_model.compile(loss='categorical_crossentropy', optimizer=optimizer, metrics=['accuracy'])\n",
    "print(\"Loadeado de disco\")"
   ]
  },
  {
   "cell_type": "code",
   "execution_count": null,
   "metadata": {},
   "outputs": [],
   "source": [
    "#Evaluacion del modelo loadeado\n",
    "\n",
    "score = xception_model.evaluate(test_generator, steps=STEP_SIZE_TEST, verbose=0)\n",
    "print(\"%s: %.2f%%\" % (xception_model.metrics_names[1], score[1]*100))"
   ]
  },
  {
   "cell_type": "code",
   "execution_count": null,
   "metadata": {},
   "outputs": [],
   "source": [
    "xception_model.summary()"
   ]
  },
  {
   "cell_type": "code",
   "execution_count": 11,
   "metadata": {},
   "outputs": [],
   "source": [
    "STEP_SIZE_TEST=test_generator.n//test_generator.batch_size\n",
    "predictions = xception_model.predict(test_generator,steps = STEP_SIZE_TEST, verbose = 0)"
   ]
  },
  {
   "cell_type": "code",
   "execution_count": 14,
   "metadata": {},
   "outputs": [
    {
     "data": {
      "text/plain": [
       "array([  0,   0,   0, ..., 119, 119, 119], dtype=int64)"
      ]
     },
     "execution_count": 14,
     "metadata": {},
     "output_type": "execute_result"
    }
   ],
   "source": [
    "y_classes = predictions.argmax(axis=-1)\n",
    "y_classes"
   ]
  },
  {
   "cell_type": "code",
   "execution_count": 15,
   "metadata": {},
   "outputs": [
    {
     "name": "stdout",
     "output_type": "stream",
     "text": [
      "Found 8585 files belonging to 120 classes.\n"
     ]
    }
   ],
   "source": [
    "#Creo train_ds solamente para tener las classnames\n",
    "test_ds = tf.keras.preprocessing.image_dataset_from_directory(\n",
    "  test_dir)\n",
    "breeds = test_ds.class_names"
   ]
  },
  {
   "cell_type": "code",
   "execution_count": 16,
   "metadata": {},
   "outputs": [],
   "source": [
    "results_by_class = []\n",
    "count = 0\n",
    "for pred in y_classes:\n",
    "    results_by_class.append((breeds[pred],count))\n",
    "    count+=1"
   ]
  },
  {
   "cell_type": "code",
   "execution_count": null,
   "metadata": {},
   "outputs": [],
   "source": [
    "#Las predicciones\n",
    "results_by_class"
   ]
  },
  {
   "cell_type": "code",
   "execution_count": 18,
   "metadata": {},
   "outputs": [],
   "source": [
    "import os\n",
    "os.listdir(\"archive/cropped/test\")\n",
    "all_filenames = []\n",
    "for breed in breeds:\n",
    "    pictures = os.listdir(\"archive/cropped/test/\" + breed)\n",
    "    for pic in pictures:\n",
    "        all_filenames.append((pic,breed))"
   ]
  },
  {
   "cell_type": "code",
   "execution_count": null,
   "metadata": {},
   "outputs": [],
   "source": [
    "all_filenames"
   ]
  },
  {
   "cell_type": "code",
   "execution_count": 61,
   "metadata": {},
   "outputs": [
    {
     "data": {
      "image/jpeg": "[encoded data removed]",
      "text/plain": [
       "<IPython.core.display.Image object>"
      ]
     },
     "execution_count": 61,
     "metadata": {},
     "output_type": "execute_result"
    }
   ],
   "source": [
    "from IPython.display import Image\n",
    "#2971 - 2975 son las de dodo\n",
    "pos_selected = 2973\n",
    "Image(filename= 'archive/cropped/test/'+ all_filenames[pos_selected][1] + '/'+all_filenames[pos_selected][0]) "
   ]
  },
  {
   "cell_type": "code",
   "execution_count": 62,
   "metadata": {},
   "outputs": [
    {
     "name": "stdout",
     "output_type": "stream",
     "text": [
      "Predicción: n02095314-wire-haired_fox_terrier\n",
      "Raza Verdadera: n02095314-wire-haired_fox_terrier\n"
     ]
    }
   ],
   "source": [
    "print(\"Predicción: \" + results_by_class[pos_selected][0] + \"\\nRaza Verdadera: \" + all_filenames[pos_selected][1])"
   ]
  },
  {
   "cell_type": "code",
   "execution_count": null,
   "metadata": {},
   "outputs": [],
   "source": []
  }
 ],
 "metadata": {
  "kernelspec": {
   "display_name": "Python 3",
   "language": "python",
   "name": "python3"
  },
  "language_info": {
   "codemirror_mode": {
    "name": "ipython",
    "version": 3
   },
   "file_extension": ".py",
   "mimetype": "text/x-python",
   "name": "python",
   "nbconvert_exporter": "python",
   "pygments_lexer": "ipython3",
   "version": "3.7.6"
  }
 },
 "nbformat": 4,
 "nbformat_minor": 4
}
