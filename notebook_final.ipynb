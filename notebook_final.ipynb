{
 "cells": [
  {
   "cell_type": "markdown",
   "metadata": {},
   "source": [
    "Grupo A - Integrantes:\n",
    "- Andrés Jalife\n",
    "- Benjamin Ortiz\n",
    "- Franco Schichlo\n",
    "- Franco Pandolfo\n",
    "- Lucas Bonfil\n",
    "- Nicolás Garófalo\n",
    "- Ramiro Chogri\n",
    "- Santiago Taddini"
   ]
  },
  {
   "cell_type": "markdown",
   "metadata": {},
   "source": [
    "Importación de librerías "
   ]
  },
  {
   "cell_type": "code",
   "execution_count": 1,
   "metadata": {},
   "outputs": [],
   "source": [
    "import numpy as np\n",
    "import tensorflow as tf\n",
    "from tensorflow import keras\n",
    "from tensorflow.keras import layers\n",
    "import matplotlib.pyplot as plt"
   ]
  },
  {
   "cell_type": "markdown",
   "metadata": {},
   "source": [
    "Definición de directorios"
   ]
  },
  {
   "cell_type": "code",
   "execution_count": 2,
   "metadata": {},
   "outputs": [],
   "source": [
    "train_dir = 'archive/cropped/train'\n",
    "test_dir = 'archive/cropped/test'"
   ]
  },
  {
   "cell_type": "markdown",
   "metadata": {},
   "source": [
    "Definición de train, validation y test set"
   ]
  },
  {
   "cell_type": "code",
   "execution_count": 3,
   "metadata": {},
   "outputs": [
    {
     "name": "stdout",
     "output_type": "stream",
     "text": [
      "Found 8040 images belonging to 120 classes.\n",
      "Found 3960 images belonging to 120 classes.\n",
      "Found 8588 images belonging to 120 classes.\n"
     ]
    }
   ],
   "source": [
    "from tensorflow.keras.preprocessing.image import ImageDataGenerator\n",
    "datagen = ImageDataGenerator( \n",
    "    width_shift_range=0.1,  # Rotaciones horizontales de la imagen (10% de ancho total)\n",
    "    height_shift_range=0.1,  # Rotaciones verticales de la imagen (10% de alto total)\n",
    "    rotation_range=40,\n",
    "    zoom_range = 0.1,        #Zooms aleatorios\n",
    "    rescale=1./255,\n",
    "    validation_split=0.33)\n",
    "train_generator = datagen.flow_from_directory(\n",
    "    directory=train_dir,\n",
    "    target_size=(224, 224),\n",
    "    color_mode=\"rgb\",\n",
    "    batch_size=64,\n",
    "    class_mode=\"categorical\",\n",
    "    shuffle=True,\n",
    "    seed=42, \n",
    "    subset=\"training\"\n",
    ")\n",
    "valid_generator = datagen.flow_from_directory(\n",
    "    directory=train_dir,\n",
    "    target_size=(224, 224),\n",
    "    color_mode=\"rgb\",\n",
    "    batch_size=64,\n",
    "    class_mode=\"categorical\",\n",
    "    shuffle=True,\n",
    "    seed=42, \n",
    "    subset=\"validation\"\n",
    ")\n",
    "\n",
    "\n",
    "test_datagen = ImageDataGenerator(rescale=1./255)\n",
    "test_generator = test_datagen.flow_from_directory(\n",
    "    directory=test_dir,\n",
    "    target_size=(224, 224),\n",
    "    color_mode=\"rgb\",\n",
    "    batch_size=32,\n",
    "    class_mode=\"categorical\",\n",
    "    shuffle=False,\n",
    "    seed=42\n",
    ")"
   ]
  },
  {
   "cell_type": "markdown",
   "metadata": {},
   "source": [
    "Optimizador"
   ]
  },
  {
   "cell_type": "code",
   "execution_count": 4,
   "metadata": {},
   "outputs": [],
   "source": [
    "from tensorflow.keras import optimizers\n",
    "from tensorflow.keras.callbacks import ReduceLROnPlateau\n",
    "\n",
    "optimizer = optimizers.RMSprop(lr=0.001, rho=0.9, epsilon=None, decay=0.0)"
   ]
  },
  {
   "cell_type": "markdown",
   "metadata": {},
   "source": [
    "Importo el modelo Xception"
   ]
  },
  {
   "cell_type": "code",
   "execution_count": 5,
   "metadata": {},
   "outputs": [],
   "source": [
    "#Modelo Xception\n",
    "from tensorflow.keras.applications.xception import Xception\n",
    "\n",
    "STEP_SIZE_TRAIN=train_generator.n//train_generator.batch_size\n",
    "STEP_SIZE_VALID=valid_generator.n//valid_generator.batch_size\n",
    "base_model = Xception(weights='imagenet', include_top=False)"
   ]
  },
  {
   "cell_type": "markdown",
   "metadata": {},
   "source": [
    "Agrego capas extras y defino el modelo final"
   ]
  },
  {
   "cell_type": "code",
   "execution_count": 6,
   "metadata": {},
   "outputs": [],
   "source": [
    "from tensorflow.keras.models import Model\n",
    "x = base_model.output\n",
    "x = layers.GlobalAveragePooling2D()(x)\n",
    "# Capa densa\n",
    "x = layers.Dense(1024, activation='relu')(x)\n",
    "# Capa output \n",
    "predictions = layers.Dense(120, activation='softmax')(x)\n",
    "\n",
    "for layer in base_model.layers:\n",
    "    layer.trainable = False\n",
    "    \n",
    "\n",
    "xception = Model(inputs=base_model.input, outputs=predictions)\n",
    "xception.compile(optimizer=optimizer, loss='categorical_crossentropy', metrics=['accuracy'])"
   ]
  },
  {
   "cell_type": "markdown",
   "metadata": {},
   "source": [
    "Entreno el modelo final"
   ]
  },
  {
   "cell_type": "code",
   "execution_count": 8,
   "metadata": {},
   "outputs": [
    {
     "name": "stdout",
     "output_type": "stream",
     "text": [
      "Epoch 1/10\n",
      "125/125 [==============================] - 926s 7s/step - loss: 2.1473 - accuracy: 0.5125 - val_loss: 0.9333 - val_accuracy: 0.7357\n",
      "Epoch 2/10\n",
      "125/125 [==============================] - 882s 7s/step - loss: 0.8222 - accuracy: 0.7430 - val_loss: 0.8403 - val_accuracy: 0.7439\n",
      "Epoch 3/10\n",
      "125/125 [==============================] - 837s 7s/step - loss: 0.7131 - accuracy: 0.7802 - val_loss: 0.9240 - val_accuracy: 0.7377\n",
      "Epoch 4/10\n",
      "125/125 [==============================] - 828s 7s/step - loss: 0.5775 - accuracy: 0.8161 - val_loss: 0.8729 - val_accuracy: 0.7618\n",
      "Epoch 5/10\n",
      "125/125 [==============================] - 976s 8s/step - loss: 0.5574 - accuracy: 0.8199 - val_loss: 0.8440 - val_accuracy: 0.7602\n",
      "Epoch 6/10\n",
      "125/125 [==============================] - 837s 7s/step - loss: 0.5070 - accuracy: 0.8361 - val_loss: 0.9008 - val_accuracy: 0.7520\n",
      "Epoch 7/10\n",
      "125/125 [==============================] - 843s 7s/step - loss: 0.4812 - accuracy: 0.8431 - val_loss: 0.8793 - val_accuracy: 0.7574\n",
      "Epoch 8/10\n",
      "125/125 [==============================] - 848s 7s/step - loss: 0.4394 - accuracy: 0.8501 - val_loss: 0.9620 - val_accuracy: 0.7472\n",
      "Epoch 9/10\n",
      "125/125 [==============================] - 843s 7s/step - loss: 0.4286 - accuracy: 0.8591 - val_loss: 0.9232 - val_accuracy: 0.7651\n",
      "Epoch 10/10\n",
      "125/125 [==============================] - 833s 7s/step - loss: 0.3765 - accuracy: 0.8770 - val_loss: 0.9308 - val_accuracy: 0.7633\n"
     ]
    },
    {
     "data": {
      "text/plain": [
       "<tensorflow.python.keras.callbacks.History at 0x2465a8fd3c8>"
      ]
     },
     "execution_count": 8,
     "metadata": {},
     "output_type": "execute_result"
    }
   ],
   "source": [
    "xception.fit(train_generator,\n",
    "                    steps_per_epoch=STEP_SIZE_TRAIN,\n",
    "                    validation_data=valid_generator,\n",
    "                    validation_steps=STEP_SIZE_VALID,\n",
    "                    epochs=10,\n",
    "                    verbose=1\n",
    ")"
   ]
  },
  {
   "cell_type": "markdown",
   "metadata": {},
   "source": [
    "Evalúo la red con el test set. Se obtiene 85% accuracy"
   ]
  },
  {
   "cell_type": "code",
   "execution_count": 19,
   "metadata": {},
   "outputs": [],
   "source": [
    "STEP_SIZE_TEST=test_generator.n//test_generator.batch_size\n",
    "loss, acc = xception.evaluate(test_generator, steps=STEP_SIZE_TEST, verbose=0)"
   ]
  },
  {
   "cell_type": "code",
   "execution_count": 20,
   "metadata": {},
   "outputs": [
    {
     "name": "stdout",
     "output_type": "stream",
     "text": [
      "Precisión: 85.05%, Loss: 55.39%\n"
     ]
    }
   ],
   "source": [
    "print(\"%s: %.2f%%, %s: %.2f%%\" % (\"Precisión\", acc*100,\"Loss\", loss*100))"
   ]
  },
  {
   "cell_type": "markdown",
   "metadata": {},
   "source": [
    "Guardo el modelo entrenado en el disco"
   ]
  },
  {
   "cell_type": "code",
   "execution_count": null,
   "metadata": {},
   "outputs": [],
   "source": [
    "xception_model_json = xception.to_json()\n",
    "with open(\"xcept_model.json\", \"w\") as json_file:\n",
    "    json_file.write(xception_model_json)\n",
    "# guardo los pesos\n",
    "xception.save_weights(\"weight_model.h5\")\n",
    "print(\"Guardado a disco\")"
   ]
  },
  {
   "cell_type": "markdown",
   "metadata": {},
   "source": [
    "Si se descargó el modelo y los pesos, correr la siguiente celda. Es para cargar el modelo entrenado "
   ]
  },
  {
   "cell_type": "code",
   "execution_count": 18,
   "metadata": {},
   "outputs": [
    {
     "name": "stdout",
     "output_type": "stream",
     "text": [
      "Cargado desde disco\n"
     ]
    }
   ],
   "source": [
    "from tensorflow.keras.models import model_from_json\n",
    "json_file = open('xcept_model.json', 'r')\n",
    "loaded_model_json = json_file.read()\n",
    "json_file.close()\n",
    "xception = model_from_json(loaded_model_json)\n",
    "# Cargo pesos\n",
    "xception.load_weights(\"weight_model.h5\")\n",
    "#Compilo\n",
    "xception.compile(loss='categorical_crossentropy', optimizer=optimizer, metrics=['accuracy'])\n",
    "print(\"Cargado desde disco\")"
   ]
  },
  {
   "cell_type": "markdown",
   "metadata": {},
   "source": [
    "Evaluacion del modelo cargado. Elegir entre evaluar o predecir (el predecir está mas abajo)"
   ]
  },
  {
   "cell_type": "code",
   "execution_count": null,
   "metadata": {},
   "outputs": [],
   "source": [
    "STEP_SIZE_TEST=test_generator.n//test_generator.batch_size\n",
    "loss, acc = xception.evaluate(test_generator, steps=STEP_SIZE_TEST, verbose=0)"
   ]
  },
  {
   "cell_type": "code",
   "execution_count": 39,
   "metadata": {},
   "outputs": [
    {
     "name": "stdout",
     "output_type": "stream",
     "text": [
      "Precisión: 85.05%, Loss: 55.39%\n"
     ]
    }
   ],
   "source": [
    "print(\"%s: %.2f%%, %s: %.2f%%\" % (\"Precisión\", acc*100,\"Loss\", loss*100))"
   ]
  },
  {
   "cell_type": "markdown",
   "metadata": {},
   "source": [
    "Estructura completa del modelo (Incluye las capas del Xception)"
   ]
  },
  {
   "cell_type": "code",
   "execution_count": null,
   "metadata": {},
   "outputs": [],
   "source": [
    "xception_model.summary()"
   ]
  },
  {
   "cell_type": "markdown",
   "metadata": {},
   "source": [
    "Para predecir el modelo"
   ]
  },
  {
   "cell_type": "code",
   "execution_count": 24,
   "metadata": {},
   "outputs": [],
   "source": [
    "STEP_SIZE_TEST=test_generator.n//test_generator.batch_size\n",
    "predictions = xception_model.predict(test_generator,steps = STEP_SIZE_TEST, verbose = 0)"
   ]
  },
  {
   "cell_type": "markdown",
   "metadata": {},
   "source": [
    "Guardo las predicciones en un array"
   ]
  },
  {
   "cell_type": "code",
   "execution_count": 27,
   "metadata": {},
   "outputs": [
    {
     "data": {
      "text/plain": [
       "array([  0,   0,   0, ..., 119, 119, 119], dtype=int64)"
      ]
     },
     "execution_count": 27,
     "metadata": {},
     "output_type": "execute_result"
    }
   ],
   "source": [
    "y_classes = predictions.argmax(axis=-1)\n",
    "y_classes"
   ]
  },
  {
   "cell_type": "markdown",
   "metadata": {},
   "source": [
    "Defino test_ds de nuevo para obtener los nombres de las clases y guardarlo en Breeds"
   ]
  },
  {
   "cell_type": "code",
   "execution_count": 28,
   "metadata": {},
   "outputs": [
    {
     "name": "stdout",
     "output_type": "stream",
     "text": [
      "Found 8588 files belonging to 120 classes.\n"
     ]
    }
   ],
   "source": [
    "#Creo test_ds solamente para tener las classnames\n",
    "test_ds = tf.keras.preprocessing.image_dataset_from_directory(\n",
    "  test_dir)\n",
    "breeds = test_ds.class_names"
   ]
  },
  {
   "cell_type": "markdown",
   "metadata": {},
   "source": [
    "Guardo las predicciones en una lista"
   ]
  },
  {
   "cell_type": "code",
   "execution_count": 29,
   "metadata": {},
   "outputs": [],
   "source": [
    "results_by_class = []\n",
    "count = 0\n",
    "for pred in y_classes:\n",
    "    results_by_class.append((breeds[pred],count))\n",
    "    count+=1"
   ]
  },
  {
   "cell_type": "code",
   "execution_count": null,
   "metadata": {},
   "outputs": [],
   "source": [
    "#Las predicciones\n",
    "results_by_class"
   ]
  },
  {
   "cell_type": "markdown",
   "metadata": {},
   "source": [
    "Creo un array con todos los nombres de las fotos y en qué carpeta están para recrear el directorio y cargar la imagen más abajo"
   ]
  },
  {
   "cell_type": "code",
   "execution_count": 30,
   "metadata": {},
   "outputs": [],
   "source": [
    "import os\n",
    "os.listdir(\"archive/cropped/test\")\n",
    "all_filenames = []\n",
    "for breed in breeds:\n",
    "    pictures = os.listdir(\"archive/cropped/test/\" + breed)\n",
    "    for pic in pictures:\n",
    "        all_filenames.append((pic,breed))"
   ]
  },
  {
   "cell_type": "code",
   "execution_count": null,
   "metadata": {},
   "outputs": [],
   "source": [
    "all_filenames"
   ]
  },
  {
   "cell_type": "markdown",
   "metadata": {},
   "source": [
    "Una predicción fallada. Observar que la red no se ha equvicado por mucho, además de que la imagen puede llevar a confusión."
   ]
  },
  {
   "cell_type": "code",
   "execution_count": 35,
   "metadata": {},
   "outputs": [
    {
     "data": {
      "image/jpeg": "[encoded data removed]",
      "text/plain": [
       "<IPython.core.display.Image object>"
      ]
     },
     "execution_count": 35,
     "metadata": {},
     "output_type": "execute_result"
    }
   ],
   "source": [
    "from IPython.display import Image\n",
    "pos_selected = 40\n",
    "Image(filename= 'archive/cropped/test/'+ all_filenames[pos_selected][1] + '/'+all_filenames[pos_selected][0]) "
   ]
  },
  {
   "cell_type": "code",
   "execution_count": 36,
   "metadata": {},
   "outputs": [
    {
     "name": "stdout",
     "output_type": "stream",
     "text": [
      "Predicción: n02110958-pug\n",
      "Raza Verdadera: n02085620-Chihuahua\n"
     ]
    }
   ],
   "source": [
    "print(\"Predicción: \" + results_by_class[pos_selected][0] + \"\\nRaza Verdadera: \" + all_filenames[pos_selected][1])"
   ]
  },
  {
   "cell_type": "markdown",
   "metadata": {},
   "source": [
    "Una predicción acertada"
   ]
  },
  {
   "cell_type": "code",
   "execution_count": 37,
   "metadata": {},
   "outputs": [
    {
     "data": {
      "image/jpeg": "[encoded data removed]",
      "text/plain": [
       "<IPython.core.display.Image object>"
      ]
     },
     "execution_count": 37,
     "metadata": {},
     "output_type": "execute_result"
    }
   ],
   "source": [
    "from IPython.display import Image\n",
    "pos_selected1 = 41\n",
    "Image(filename= 'archive/cropped/test/'+ all_filenames[pos_selected1][1] + '/'+all_filenames[pos_selected1][0]) "
   ]
  },
  {
   "cell_type": "code",
   "execution_count": 38,
   "metadata": {},
   "outputs": [
    {
     "name": "stdout",
     "output_type": "stream",
     "text": [
      "Predicción: n02085620-Chihuahua\n",
      "Raza Verdadera: n02085620-Chihuahua\n"
     ]
    }
   ],
   "source": [
    "print(\"Predicción: \" + results_by_class[pos_selected1][0] + \"\\nRaza Verdadera: \" + all_filenames[pos_selected1][1])"
   ]
  },
  {
   "cell_type": "code",
   "execution_count": null,
   "metadata": {},
   "outputs": [],
   "source": []
  }
 ],
 "metadata": {
  "kernelspec": {
   "display_name": "Python 3",
   "language": "python",
   "name": "python3"
  },
  "language_info": {
   "codemirror_mode": {
    "name": "ipython",
    "version": 3
   },
   "file_extension": ".py",
   "mimetype": "text/x-python",
   "name": "python",
   "nbconvert_exporter": "python",
   "pygments_lexer": "ipython3",
   "version": "3.7.6"
  }
 },
 "nbformat": 4,
 "nbformat_minor": 4
}
